{
  "nbformat": 4,
  "nbformat_minor": 0,
  "metadata": {
    "colab": {
      "name": "pacman_run7.ipynb",
      "provenance": [],
      "collapsed_sections": [],
      "machine_shape": "hm",
      "mount_file_id": "1BnMRmPgGMfKPWP_RTmEl6PEsH1hEkepO",
      "authorship_tag": "ABX9TyOtRFbF6NzY2XU2yArtnrTT",
      "include_colab_link": true
    },
    "kernelspec": {
      "name": "python3",
      "display_name": "Python 3"
    },
    "accelerator": "GPU"
  },
  "cells": [
    {
      "cell_type": "markdown",
      "metadata": {
        "id": "view-in-github",
        "colab_type": "text"
      },
      "source": [
        "<a href=\"https://colab.research.google.com/github/jiedali/colab_temp/blob/main/pacman_run7.ipynb\" target=\"_parent\"><img src=\"https://colab.research.google.com/assets/colab-badge.svg\" alt=\"Open In Colab\"/></a>"
      ]
    },
    {
      "cell_type": "code",
      "metadata": {
        "colab": {
          "base_uri": "https://localhost:8080/"
        },
        "id": "90LenOxBNaXX",
        "outputId": "cd9c83bd-cb50-4712-f5cc-50d10dca60b2"
      },
      "source": [
        "import os\n",
        "import time\n",
        "import numpy as np\n",
        "%tensorflow_version 1.x\n",
        "import tensorflow as tf\n",
        "print(tf.__version__)\n",
        "import gym\n",
        "import random\n",
        "from collections import deque\n",
        "import matplotlib.pyplot as plt\n",
        "# choose a GPU card\n",
        "# os.environ['CUDA_VISIBLE_DEVICES']=\"0\"\n",
        "# Set seed for tensorflow\n",
        "# SEED=123\n",
        "# tf.set_random_seed(SEED)\n",
        "# GYM_SEED=678"
      ],
      "execution_count": 1,
      "outputs": [
        {
          "output_type": "stream",
          "text": [
            "TensorFlow 1.x selected.\n",
            "1.15.2\n"
          ],
          "name": "stdout"
        }
      ]
    },
    {
      "cell_type": "code",
      "metadata": {
        "colab": {
          "base_uri": "https://localhost:8080/"
        },
        "id": "kk2qGKfMFRPz",
        "outputId": "49718101-08c3-4e5a-c6b5-eb5b9e254823"
      },
      "source": [
        "gpu_info = !nvidia-smi\n",
        "gpu_info = '\\n'.join(gpu_info)\n",
        "if gpu_info.find('failed') >= 0:\n",
        "  print('Select the Runtime > \"Change runtime type\" menu to enable a GPU accelerator, ')\n",
        "  print('and then re-execute this cell.')\n",
        "else:\n",
        "  print(gpu_info)"
      ],
      "execution_count": 2,
      "outputs": [
        {
          "output_type": "stream",
          "text": [
            "Fri Nov 20 16:25:51 2020       \n",
            "+-----------------------------------------------------------------------------+\n",
            "| NVIDIA-SMI 455.38       Driver Version: 418.67       CUDA Version: 10.1     |\n",
            "|-------------------------------+----------------------+----------------------+\n",
            "| GPU  Name        Persistence-M| Bus-Id        Disp.A | Volatile Uncorr. ECC |\n",
            "| Fan  Temp  Perf  Pwr:Usage/Cap|         Memory-Usage | GPU-Util  Compute M. |\n",
            "|                               |                      |               MIG M. |\n",
            "|===============================+======================+======================|\n",
            "|   0  Tesla V100-SXM2...  Off  | 00000000:00:04.0 Off |                    0 |\n",
            "| N/A   36C    P0    24W / 300W |      0MiB / 16130MiB |      0%      Default |\n",
            "|                               |                      |                 ERR! |\n",
            "+-------------------------------+----------------------+----------------------+\n",
            "                                                                               \n",
            "+-----------------------------------------------------------------------------+\n",
            "| Processes:                                                                  |\n",
            "|  GPU   GI   CI        PID   Type   Process name                  GPU Memory |\n",
            "|        ID   ID                                                   Usage      |\n",
            "|=============================================================================|\n",
            "|  No running processes found                                                 |\n",
            "+-----------------------------------------------------------------------------+\n"
          ],
          "name": "stdout"
        }
      ]
    },
    {
      "cell_type": "code",
      "metadata": {
        "colab": {
          "base_uri": "https://localhost:8080/"
        },
        "id": "qd6rGt8PEiQY",
        "outputId": "548e3167-07f0-42f4-ad12-78e674d9fc0d"
      },
      "source": [
        "from google.colab import drive\n",
        "drive.mount('/content/gdrive')"
      ],
      "execution_count": 3,
      "outputs": [
        {
          "output_type": "stream",
          "text": [
            "Mounted at /content/gdrive\n"
          ],
          "name": "stdout"
        }
      ]
    },
    {
      "cell_type": "code",
      "metadata": {
        "colab": {
          "base_uri": "https://localhost:8080/"
        },
        "id": "qIIcPRdTd8tv",
        "outputId": "5042c4d2-3f8d-4161-c18d-19349dac3004"
      },
      "source": [
        "cd /content/gdrive/MyDrive"
      ],
      "execution_count": 4,
      "outputs": [
        {
          "output_type": "stream",
          "text": [
            "/content/gdrive/MyDrive\n"
          ],
          "name": "stdout"
        }
      ]
    },
    {
      "cell_type": "code",
      "metadata": {
        "colab": {
          "base_uri": "https://localhost:8080/",
          "height": 35
        },
        "id": "t0daGq8xeD50",
        "outputId": "6f6a3503-38f0-4ace-d433-45fca4439902"
      },
      "source": [
        "pwd"
      ],
      "execution_count": 15,
      "outputs": [
        {
          "output_type": "execute_result",
          "data": {
            "application/vnd.google.colaboratory.intrinsic+json": {
              "type": "string"
            },
            "text/plain": [
              "'/content/drive'"
            ]
          },
          "metadata": {
            "tags": []
          },
          "execution_count": 15
        }
      ]
    },
    {
      "cell_type": "code",
      "metadata": {
        "id": "9b6s2plGOYh1"
      },
      "source": [
        "def preprocess_observation(obs):\n",
        "    mspacman_color = 210 + 164 + 74\n",
        "    # crop and downsize\n",
        "    img = obs[1:176:2, ::2]\n",
        "    # to greyscale\n",
        "    img = img.sum(axis=2)\n",
        "    # Improve contrast\n",
        "    img[img == mspacman_color] = 0\n",
        "    # normalize from -128 to 127\n",
        "    img = (img // 3 - 128).astype(np.int8)\n",
        "    return img.reshape(88, 80, 1)"
      ],
      "execution_count": 5,
      "outputs": []
    },
    {
      "cell_type": "code",
      "metadata": {
        "id": "XRY_nyfbOJsw"
      },
      "source": [
        "eps_min = 0.1\n",
        "eps_max = 1.0\n",
        "eps_decay_steps = 2000000\n",
        "n_outputs = 9\n",
        "\n",
        "replay_memory_size = 500000\n",
        "replay_memory = deque([], maxlen=replay_memory_size)\n",
        "\n",
        "\n",
        "def sample_memories(batch_size):\n",
        "    indices = np.random.permutation(len(replay_memory))[:batch_size]\n",
        "    cols = [[], [], [], [], []]\n",
        "    for idx in indices:\n",
        "        memory = replay_memory[idx]\n",
        "        for col, value in zip(cols, memory):\n",
        "            col.append(value)\n",
        "    cols = [np.array(col) for col in cols]\n",
        "    return cols[0], cols[1], cols[2].reshape(-1, 1), cols[3], cols[4].reshape(-1, 1)\n",
        "\n",
        "\n",
        "def epsilon_greedy(q_values, step):\n",
        "    epsilon = max(eps_min, eps_max - (eps_max-eps_min) * step/eps_decay_steps)\n",
        "    if np.random.rand() < epsilon:\n",
        "        return np.random.randint(n_outputs)\n",
        "    else:\n",
        "        return np.argmax(q_values)"
      ],
      "execution_count": 6,
      "outputs": []
    },
    {
      "cell_type": "code",
      "metadata": {
        "id": "k9omxnE9Njh8"
      },
      "source": [
        "class DQN:\n",
        "    def __init__(self):\n",
        "        self.input_height = 88\n",
        "        self.input_width = 80\n",
        "        self.input_channels = 1\n",
        "        self.conv_n_maps = [32, 64, 64]\n",
        "        self.conv_kernel_sizes = [(8, 8), (4, 4), (3, 3)]\n",
        "        self.conv_strides = [4, 2, 1]\n",
        "        self.conv_paddings = [\"SAME\"] * 3\n",
        "        self.conv_activation = [tf.nn.relu] * 3\n",
        "        self.n_hidden_in = 64 * 11 * 10\n",
        "        self.n_hidden = 512\n",
        "        self.hidden_activation = tf.nn.relu\n",
        "        self.n_outputs = 9\n",
        "        self.initializer = tf.contrib.layers.variance_scaling_initializer()\n",
        "\n",
        "    def _zipped_params(self):\n",
        "        return zip(self.conv_n_maps, self.conv_kernel_sizes,\n",
        "                   self.conv_strides, self.conv_paddings, self.conv_activation)\n",
        "\n",
        "    def create_model(self, state, name):\n",
        "        prev_layer = state / 128.0\n",
        "        with tf.variable_scope(name) as scope:\n",
        "            for n_maps, kernel_size, strides, padding, activation in self._zipped_params():\n",
        "                prev_layer = tf.layers.conv2d(prev_layer, filters=n_maps, kernel_size=kernel_size,\n",
        "                                              strides=strides, padding=padding, activation=activation,\n",
        "                                              kernel_initializer=self.initializer)\n",
        "\n",
        "            last_conv_layer_flat = tf.reshape(prev_layer, shape=[-1, self.n_hidden_in])\n",
        "            hidden = tf.layers.dense(last_conv_layer_flat, self.n_hidden, activation=self.hidden_activation,\n",
        "                                     kernel_initializer=self.initializer)\n",
        "            outputs = tf.layers.dense(hidden, self.n_outputs, kernel_initializer=self.initializer)\n",
        "\n",
        "        trainable_vars = tf.get_collection(tf.GraphKeys.TRAINABLE_VARIABLES, scope=scope.name)\n",
        "        trainable_vars_by_name = {var.name[len(scope.name):]: var for var in trainable_vars}\n",
        "\n",
        "        return outputs, trainable_vars_by_name"
      ],
      "execution_count": 7,
      "outputs": []
    },
    {
      "cell_type": "code",
      "metadata": {
        "colab": {
          "base_uri": "https://localhost:8080/"
        },
        "id": "BE0Ib0KUOaQo",
        "outputId": "248c1069-93f7-432a-f40b-0648260a1ec7"
      },
      "source": [
        "tf.reset_default_graph()\n",
        "input_height = 88\n",
        "input_width = 80\n",
        "input_channels = 1\n",
        "n_outputs = 9\n",
        "\n",
        "learning_rate = 0.001\n",
        "momentum = 0.95\n",
        "\n",
        "n_steps = 4000000\n",
        "training_start = 10000\n",
        "training_interval = 4\n",
        "save_steps = 1000\n",
        "copy_steps = 10000\n",
        "discount_rate = 0.99\n",
        "skip_start = 90\n",
        "batch_size = 50\n",
        "checkpoint_path = \"/content/gdrive/MyDrive/pacman_dqn_run9.ckpt\"\n",
        "\n",
        "\n",
        "def train_model():\n",
        "    iteration = 0\n",
        "    loss_val = np.infty\n",
        "    game_length = 0\n",
        "    total_max_q = 0\n",
        "    mean_max_q = 0.0\n",
        "    done = True\n",
        "    state = []\n",
        "    final_mean_max_q=[]\n",
        "\n",
        "    dqn = DQN()\n",
        "    env = gym.make(\"MsPacman-v0\")\n",
        "\n",
        "    X_state = tf.placeholder(tf.float32, shape=[None, input_height, input_width, input_channels])\n",
        "\n",
        "    online_q_values, online_vars = dqn.create_model(X_state, \"qnetwork_online\")\n",
        "    target_q_values, target_vars = dqn.create_model(X_state, \"qnetwork_target\")\n",
        "\n",
        "    copy_ops = [target_var.assign(online_vars[var_name])\n",
        "                for var_name, target_var in target_vars.items()]\n",
        "    copy_online_to_target = tf.group(*copy_ops)\n",
        "\n",
        "    X_action, global_step, loss, training_op, y = define_train_variables(online_q_values)\n",
        "\n",
        "    init = tf.global_variables_initializer()\n",
        "    saver = tf.train.Saver()\n",
        "\n",
        "    with tf.Session() as sess:\n",
        "\n",
        "        restore_session(copy_online_to_target, init, saver, sess)\n",
        "\n",
        "        while True:\n",
        "            step = global_step.eval()\n",
        "            if step >= n_steps:\n",
        "                break\n",
        "\n",
        "            iteration += 1\n",
        "            print(\"\\rIteration {}\\tTraining step {}/{} ({:.1f})%\\tLoss {:5f}\\tMean Max-Q {:5f}   \".format(\n",
        "                iteration, step, n_steps, step * 100 / n_steps, loss_val, mean_max_q), end=\"\")\n",
        "            \n",
        "\n",
        "\n",
        "            state = skip_some_steps(done, env, state)\n",
        "\n",
        "            done, q_values, next_state = evaluate_and_play_online_dqn(X_state, env, online_q_values, state, step)\n",
        "            state = next_state\n",
        "\n",
        "            mean_max_q = compute_statistics(done, game_length, mean_max_q, q_values, total_max_q)\n",
        "\n",
        "            if done:\n",
        "                # Jieda: save mean max_q after each episode is done\n",
        "                final_mean_max_q.append(mean_max_q)\n",
        "\n",
        "            if iteration < training_start or iteration % training_interval != 0:\n",
        "                continue\n",
        "\n",
        "            loss_val = train_online_dqn(X_action, X_state, loss, sess, target_q_values, training_op, y)\n",
        "\n",
        "            # Copy the online DQN to the target DQN\n",
        "            if step % copy_steps == 0:\n",
        "                copy_online_to_target.run()\n",
        "\n",
        "            # Save model\n",
        "            if step % save_steps == 0:\n",
        "                saver.save(sess, checkpoint_path)\n",
        "            \n",
        "            # save mean max q\n",
        "            if step % save_steps == 0:\n",
        "                with open('/content/gdrive/MyDrive/pacman_run9_mean_max_q.txt', 'w') as file:              \n",
        "                  file.write('%s\\n' % final_mean_max_q)\n",
        "\t\t\t\t            \n",
        "\n",
        "def define_train_variables(online_q_values):\n",
        "    with tf.variable_scope(\"train\"):\n",
        "        X_action = tf.placeholder(tf.int32, shape=[None])\n",
        "        y = tf.placeholder(tf.float32, shape=[None, 1])\n",
        "        q_value = tf.reduce_sum(online_q_values * tf.one_hot(X_action, n_outputs),\n",
        "                                axis=1, keepdims=True)\n",
        "        error = tf.abs(y - q_value)\n",
        "        clipped_error = tf.clip_by_value(error, 0.0, 1.0)\n",
        "        linear_error = 2 * (error - clipped_error)\n",
        "        loss = tf.reduce_mean(tf.square(clipped_error) + linear_error)\n",
        "\n",
        "        global_step = tf.Variable(0, trainable=False, name='global_step')\n",
        "        optimizer = tf.train.MomentumOptimizer(learning_rate, momentum, use_nesterov=True)\n",
        "        training_op = optimizer.minimize(loss, global_step=global_step)\n",
        "    return X_action, global_step, loss, training_op, y\n",
        "\n",
        "\n",
        "def restore_session(copy_online_to_target, init, saver, sess):\n",
        "    if os.path.isfile(checkpoint_path + \".index\"):\n",
        "        saver.restore(sess, checkpoint_path)\n",
        "        print(\"restored session\")\n",
        "    else:\n",
        "        init.run()\n",
        "        copy_online_to_target.run()\n",
        "        print(\"created a new session\")\n",
        "\n",
        "\n",
        "def skip_some_steps(done, env, state):\n",
        "    if done:\n",
        "        obs = env.reset()\n",
        "        for skip in range(skip_start):\n",
        "            obs, reward, done, info = env.step(0)\n",
        "        state = preprocess_observation(obs)\n",
        "    return state\n",
        "\n",
        "\n",
        "def evaluate_and_play_online_dqn(X_state, env, online_q_values, state, step):\n",
        "    # evaluate what to do\n",
        "    q_values = online_q_values.eval(feed_dict={X_state: [state]})\n",
        "    action = epsilon_greedy(q_values, step)\n",
        "\n",
        "    # play the game\n",
        "    obs, reward, done, info = env.step(action)\n",
        "    next_state = preprocess_observation(obs)\n",
        "\n",
        "    # memorize whats happened\n",
        "    replay_memory.append((state, action, reward, next_state, 1.0 - done))\n",
        "\n",
        "    return done, q_values, next_state\n",
        "\n",
        "\n",
        "def compute_statistics(done, game_length, mean_max_q, q_values, total_max_q):\n",
        "    total_max_q += q_values.max()\n",
        "    game_length += 1\n",
        "    if done:\n",
        "        mean_max_q = total_max_q / game_length\n",
        "    return mean_max_q\n",
        "\n",
        "\n",
        "def train_online_dqn(X_action, X_state, loss, sess, target_q_values, training_op, y):\n",
        "    # Sample memories and use the target DQN to produce the target Q-Value\n",
        "    X_state_val, X_action_val, rewards, X_next_state_val, continues = (sample_memories(batch_size))\n",
        "    next_q_values = target_q_values.eval(feed_dict={X_state: X_next_state_val})\n",
        "    max_next_q_values = np.max(next_q_values, axis=1, keepdims=True)\n",
        "    y_val = rewards + continues * discount_rate * max_next_q_values\n",
        "\n",
        "    # Train the online DQN\n",
        "    _, loss_val = sess.run([training_op, loss], feed_dict={X_state: X_state_val,\n",
        "                                                           X_action: X_action_val,\n",
        "                                                           y: y_val})\n",
        "    return loss_val\n",
        "\n",
        "\n",
        "if __name__ == '__main__':\n",
        "    train_model()"
      ],
      "execution_count": null,
      "outputs": [
        {
          "output_type": "stream",
          "text": [
            "WARNING:tensorflow:\n",
            "The TensorFlow contrib module will not be included in TensorFlow 2.0.\n",
            "For more information, please see:\n",
            "  * https://github.com/tensorflow/community/blob/master/rfcs/20180907-contrib-sunset.md\n",
            "  * https://github.com/tensorflow/addons\n",
            "  * https://github.com/tensorflow/io (for I/O related ops)\n",
            "If you depend on functionality not listed there, please file an issue.\n",
            "\n",
            "WARNING:tensorflow:From <ipython-input-7-499ae3ce57a8>:27: conv2d (from tensorflow.python.layers.convolutional) is deprecated and will be removed in a future version.\n",
            "Instructions for updating:\n",
            "Use `tf.keras.layers.Conv2D` instead.\n",
            "WARNING:tensorflow:From /tensorflow-1.15.2/python3.6/tensorflow_core/python/layers/convolutional.py:424: Layer.apply (from tensorflow.python.keras.engine.base_layer) is deprecated and will be removed in a future version.\n",
            "Instructions for updating:\n",
            "Please use `layer.__call__` method instead.\n",
            "WARNING:tensorflow:From <ipython-input-7-499ae3ce57a8>:31: dense (from tensorflow.python.layers.core) is deprecated and will be removed in a future version.\n",
            "Instructions for updating:\n",
            "Use keras.layers.Dense instead.\n",
            "WARNING:tensorflow:From /tensorflow-1.15.2/python3.6/tensorflow_core/python/ops/math_grad.py:1424: where (from tensorflow.python.ops.array_ops) is deprecated and will be removed in a future version.\n",
            "Instructions for updating:\n",
            "Use tf.where in 2.0, which has the same broadcast rule as np.where\n",
            "created a new session\n",
            "Iteration 2721268\tTraining step 677817/4000000 (16.9)%\tLoss 2.706580\tMean Max-Q 38.278095   "
          ],
          "name": "stdout"
        }
      ]
    },
    {
      "cell_type": "code",
      "metadata": {
        "colab": {
          "base_uri": "https://localhost:8080/"
        },
        "id": "EWRIpFf0rGnq",
        "outputId": "577bba16-0473-46a5-a209-3097b0b87430"
      },
      "source": [
        "# Agent play\n",
        "# let the trained model play and record the rewards\n",
        "tf.reset_default_graph()\n",
        "number_of_games = 5\n",
        "checkpoint_path = \"/content/gdrive/MyDrive/pacman_dqn_run9.ckpt\"\n",
        "\n",
        "input_height = 88\n",
        "input_width = 80\n",
        "input_channels = 1\n",
        "n_outputs = 4\n",
        "\n",
        "def test_model(model_path, number_of_games):\n",
        "    dqn = DQN()\n",
        "    env = gym.make(\"MsPacman-v0\")\n",
        "\n",
        "    X_state = tf.placeholder(tf.float32, shape=[None, input_height, input_width, input_channels])\n",
        "    online_q_values, online_vars = dqn.create_model(X_state, \"qnetwork_online\")\n",
        "    saver = tf.train.Saver()\n",
        "\n",
        "    with tf.Session() as sess:\n",
        "        saver.restore(sess, model_path)\n",
        "\n",
        "        final_reward_list=[]\n",
        "        #\n",
        "        for step in range(number_of_games):\n",
        "          print(\"game number %d\" % step)\n",
        "          obs = env.reset()\n",
        "          total_reward_per_episode=0\n",
        "          # \n",
        "          while True:\n",
        "            \n",
        "            state = preprocess_observation(obs)\n",
        "\n",
        "            # evaluates what to do\n",
        "            q_values = online_q_values.eval(feed_dict={X_state: [state]})\n",
        "            action = np.argmax(q_values)\n",
        "\n",
        "            # plays the game\n",
        "            obs, reward, done, info = env.step(action)\n",
        "            # print(\"reward at each step %d\" % reward)\n",
        "\n",
        "            # add reward from this step to the total episode reward\n",
        "            total_reward_per_episode += reward\n",
        "            \n",
        "            time.sleep(0.05)\n",
        "\n",
        "            if done:\n",
        "                print(\"reward for game %d is %d\" %(step,total_reward_per_episode))\n",
        "                final_reward_list.append(total_reward_per_episode)\n",
        "                total_reward_per_episode = 0\n",
        "                break\n",
        "\n",
        "\n",
        "               \n",
        "            \n",
        "    print(\"final reward list:\")\n",
        "    print(final_reward_list)\n",
        "    env.close()\n",
        "\n",
        "\n",
        "if __name__ == '__main__':\n",
        "    test_model(checkpoint_path, number_of_games)"
      ],
      "execution_count": 22,
      "outputs": [
        {
          "output_type": "stream",
          "text": [
            "INFO:tensorflow:Restoring parameters from ./pacman_dqn_run8.ckpt\n",
            "game number 0\n",
            "reward for game 0 is 220\n",
            "game number 1\n",
            "reward for game 1 is 330\n",
            "game number 2\n",
            "reward for game 2 is 340\n",
            "game number 3\n",
            "reward for game 3 is 400\n",
            "game number 4\n",
            "reward for game 4 is 490\n",
            "final reward list:\n",
            "[220.0, 330.0, 340.0, 400.0, 490.0]\n"
          ],
          "name": "stdout"
        }
      ]
    },
    {
      "cell_type": "code",
      "metadata": {
        "colab": {
          "base_uri": "https://localhost:8080/"
        },
        "id": "wu16SoJTpOAB",
        "outputId": "97d55a26-dcb1-404e-c1af-2879453b13a0"
      },
      "source": [
        "ls"
      ],
      "execution_count": 16,
      "outputs": [
        {
          "output_type": "stream",
          "text": [
            "checkpoint                                pacman_dqn_run6.ckpt.meta\n",
            "\u001b[0m\u001b[01;34mdrive\u001b[0m/                                    pacman_run6_mean_max_q_3.txt\n",
            "pacman_dqn_run6.ckpt.data-00000-of-00001  \u001b[01;34msample_data\u001b[0m/\n",
            "pacman_dqn_run6.ckpt.index\n"
          ],
          "name": "stdout"
        }
      ]
    },
    {
      "cell_type": "code",
      "metadata": {
        "colab": {
          "base_uri": "https://localhost:8080/"
        },
        "id": "zG-Vfz4_rIPe",
        "outputId": "446ebba8-e65f-465d-85f6-cc403e98baa6"
      },
      "source": [
        "cd drive"
      ],
      "execution_count": 17,
      "outputs": [
        {
          "output_type": "stream",
          "text": [
            "/content/drive\n"
          ],
          "name": "stdout"
        }
      ]
    },
    {
      "cell_type": "code",
      "metadata": {
        "id": "WsTjfaYTrNko"
      },
      "source": [
        ""
      ],
      "execution_count": null,
      "outputs": []
    }
  ]
}