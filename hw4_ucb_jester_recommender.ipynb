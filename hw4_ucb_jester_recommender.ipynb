{
  "nbformat": 4,
  "nbformat_minor": 0,
  "metadata": {
    "colab": {
      "name": "hw4_ucb_jester_recommender.ipynb",
      "provenance": [],
      "authorship_tag": "ABX9TyOI2REBXTlWfCJ+BphMjCRb",
      "include_colab_link": true
    },
    "kernelspec": {
      "name": "python3",
      "display_name": "Python 3"
    }
  },
  "cells": [
    {
      "cell_type": "markdown",
      "metadata": {
        "id": "view-in-github",
        "colab_type": "text"
      },
      "source": [
        "<a href=\"https://colab.research.google.com/github/jiedali/colab_temp/blob/main/hw4_ucb_jester_recommender.ipynb\" target=\"_parent\"><img src=\"https://colab.research.google.com/assets/colab-badge.svg\" alt=\"Open In Colab\"/></a>"
      ]
    },
    {
      "cell_type": "code",
      "metadata": {
        "colab": {
          "base_uri": "https://localhost:8080/"
        },
        "id": "MGh7EgyUBFZl",
        "outputId": "94c97f9a-cf41-4cbc-c545-7df17cd77f35"
      },
      "source": [
        "import numpy as np\n",
        "%tensorflow_version 1.x\n",
        "import tensorflow as tf\n",
        "print(tf.__version__)\n",
        "from google.colab import drive\n",
        "drive.mount('/content/gdrive')"
      ],
      "execution_count": 1,
      "outputs": [
        {
          "output_type": "stream",
          "text": [
            "TensorFlow 1.x selected.\n",
            "1.15.2\n",
            "Mounted at /content/gdrive\n"
          ],
          "name": "stdout"
        }
      ]
    },
    {
      "cell_type": "code",
      "metadata": {
        "id": "oYyB1mzFBGiE"
      },
      "source": [
        "def sample_jester_data(file_name='/content/gdrive/MyDrive/jester_data_40jokes_19181users.npy', context_dim = 32, num_actions = 8, num_contexts = 19181,\n",
        "    shuffle_rows=True, shuffle_cols=False):\n",
        "    \"\"\"Samples bandit game from (user, joke) dense subset of Jester dataset.\n",
        "    Args:\n",
        "       file_name: Route of file containing the modified Jester dataset.\n",
        "       context_dim: Context dimension (i.e. vector with some ratings from a user).\n",
        "       num_actions: Number of actions (number of joke ratings to predict).\n",
        "       num_contexts: Number of contexts to sample.\n",
        "       shuffle_rows: If True, rows from original dataset are shuffled.\n",
        "       shuffle_cols: Whether or not context/action jokes are randomly shuffled.\n",
        "    Returns:\n",
        "       dataset: Sampled matrix with rows: (context, rating_1, ..., rating_k).\n",
        "       opt_vals: Vector of deterministic optimal (reward, action) for each context.\n",
        "\"\"\"\n",
        "    np.random.seed(0)\n",
        "    with tf.gfile.Open(file_name, 'rb') as f:\n",
        "       dataset = np.load(f)\n",
        "    if shuffle_cols:\n",
        "       dataset = dataset[:, np.random.permutation(dataset.shape[1])]\n",
        "    if shuffle_rows:\n",
        "       np.random.shuffle(dataset)\n",
        "    dataset = dataset[:num_contexts, :]\n",
        "    assert context_dim + num_actions == dataset.shape[1], 'Wrong data dimensions.'\n",
        "  \n",
        "\n",
        "    opt_actions = np.argmax(dataset[:, context_dim:], axis=1)\n",
        "    opt_rewards = np.array([dataset[i, context_dim + a] for i, a in enumerate(opt_actions)])\n",
        "    \n",
        "    return dataset, opt_rewards, opt_actions"
      ],
      "execution_count": 2,
      "outputs": []
    },
    {
      "cell_type": "code",
      "metadata": {
        "id": "izBQcye1BU43"
      },
      "source": [
        "# Note: opt_rewards is based only on the last 8 jokes, from which we are trying to recommed\n",
        "dataset, opt_rewards, opt_actions=sample_jester_data()"
      ],
      "execution_count": 3,
      "outputs": []
    },
    {
      "cell_type": "code",
      "metadata": {
        "colab": {
          "base_uri": "https://localhost:8080/"
        },
        "id": "Qa6HzyWGBYRw",
        "outputId": "c6defd0a-66a6-474c-c5f9-ccddc4e69050"
      },
      "source": [
        "dataset.shape"
      ],
      "execution_count": 4,
      "outputs": [
        {
          "output_type": "execute_result",
          "data": {
            "text/plain": [
              "(19181, 40)"
            ]
          },
          "metadata": {
            "tags": []
          },
          "execution_count": 4
        }
      ]
    },
    {
      "cell_type": "code",
      "metadata": {
        "colab": {
          "base_uri": "https://localhost:8080/"
        },
        "id": "j0rFzy_uBZZo",
        "outputId": "3ea39c1e-23fc-4f38-d4af-748a79966fa4"
      },
      "source": [
        "opt_rewards.shape"
      ],
      "execution_count": 5,
      "outputs": [
        {
          "output_type": "execute_result",
          "data": {
            "text/plain": [
              "(19181,)"
            ]
          },
          "metadata": {
            "tags": []
          },
          "execution_count": 5
        }
      ]
    },
    {
      "cell_type": "code",
      "metadata": {
        "colab": {
          "base_uri": "https://localhost:8080/"
        },
        "id": "0zb4u_MhBasa",
        "outputId": "06a559e4-b173-4858-e188-821ceffc6ece"
      },
      "source": [
        "opt_actions.shape"
      ],
      "execution_count": 6,
      "outputs": [
        {
          "output_type": "execute_result",
          "data": {
            "text/plain": [
              "(19181,)"
            ]
          },
          "metadata": {
            "tags": []
          },
          "execution_count": 6
        }
      ]
    },
    {
      "cell_type": "code",
      "metadata": {
        "id": "R6rMezwgDtTB"
      },
      "source": [
        "theta = np.zeros((8,32))"
      ],
      "execution_count": 40,
      "outputs": []
    },
    {
      "cell_type": "code",
      "metadata": {
        "colab": {
          "base_uri": "https://localhost:8080/"
        },
        "id": "81uE9eeSdNcH",
        "outputId": "0b2f55ea-82e5-4af2-f121-f6d31ebe7593"
      },
      "source": [
        "set(opt_actions)"
      ],
      "execution_count": 42,
      "outputs": [
        {
          "output_type": "execute_result",
          "data": {
            "text/plain": [
              "{0, 1, 2, 3, 4, 5, 6, 7}"
            ]
          },
          "metadata": {
            "tags": []
          },
          "execution_count": 42
        }
      ]
    },
    {
      "cell_type": "code",
      "metadata": {
        "id": "FEjlLcIldUZr"
      },
      "source": [
        "train_data = dataset[opt_actions==0, 0:32]"
      ],
      "execution_count": 44,
      "outputs": []
    },
    {
      "cell_type": "code",
      "metadata": {
        "colab": {
          "base_uri": "https://localhost:8080/"
        },
        "id": "mTaTuwLQdV0o",
        "outputId": "45d5f8fc-b42c-4b89-c316-188febd19cba"
      },
      "source": [
        "train_data.shape"
      ],
      "execution_count": 45,
      "outputs": [
        {
          "output_type": "execute_result",
          "data": {
            "text/plain": [
              "(929, 32)"
            ]
          },
          "metadata": {
            "tags": []
          },
          "execution_count": 45
        }
      ]
    },
    {
      "cell_type": "code",
      "metadata": {
        "id": "mxB7DtvzBgUx"
      },
      "source": [
        "# fit linear regression model and get theta\n",
        "from sklearn.linear_model import LinearRegression\n",
        "# initialize an numpy array to store theta\n",
        "theta = np.zeros((8,32))\n",
        "\n",
        "# fit linear regression for each of the last 8 jokes (8 arms)\n",
        "# assemble the training data for each of the arm\n",
        "for arm in range(0,8):\n",
        "  # choose the training data with only the target \"arm\" being pulled\n",
        "  train_data = dataset[opt_actions==arm, 0:32]\n",
        "  # the labels for each arm is different\n",
        "  train_label = dataset[opt_actions==arm,32+arm]\n",
        "  # fit linear regressio for each specific arm\n",
        "  reg = LinearRegression().fit(train_data, train_label)\n",
        "  # get theta for each arm\n",
        "  theta[arm,:] = reg.coef_"
      ],
      "execution_count": 46,
      "outputs": []
    },
    {
      "cell_type": "code",
      "metadata": {
        "colab": {
          "base_uri": "https://localhost:8080/"
        },
        "id": "6OCze8N8Tgu1",
        "outputId": "82637364-6579-462b-ffc4-e7ed198ff6b6"
      },
      "source": [
        "theta.shape"
      ],
      "execution_count": 52,
      "outputs": [
        {
          "output_type": "execute_result",
          "data": {
            "text/plain": [
              "(8, 32)"
            ]
          },
          "metadata": {
            "tags": []
          },
          "execution_count": 52
        }
      ]
    },
    {
      "cell_type": "code",
      "metadata": {
        "colab": {
          "base_uri": "https://localhost:8080/"
        },
        "id": "2ONmS4wgfL9u",
        "outputId": "97566ae0-f09d-4cf8-c599-4236021e3bc3"
      },
      "source": [
        "dataset[opt_actions==6,0:32][1,:]"
      ],
      "execution_count": 60,
      "outputs": [
        {
          "output_type": "execute_result",
          "data": {
            "text/plain": [
              "array([ 6.02,  3.5 , -2.38,  7.96,  5.53,  7.48,  2.38,  2.57,  7.23,\n",
              "        9.27,  4.03,  6.26,  4.32,  4.47,  6.89,  2.67, -6.17,  2.67,\n",
              "        7.86,  7.77,  3.35,  6.8 ,  8.74,  7.38,  6.02,  7.38,  6.8 ,\n",
              "        8.79,  9.08,  7.28,  1.5 ,  5.97])"
            ]
          },
          "metadata": {
            "tags": []
          },
          "execution_count": 60
        }
      ]
    },
    {
      "cell_type": "code",
      "metadata": {
        "colab": {
          "base_uri": "https://localhost:8080/"
        },
        "id": "0TD3BjC8HhRa",
        "outputId": "9a6bd7ff-b379-4bba-99d8-a1713771a85c"
      },
      "source": [
        "# experiment with covaraicne matrix computation\n",
        "for arm in range(0,8):\n",
        "  A = np.matmul(dataset[opt_actions==arm,0:32].transpose(), dataset[opt_actions==arm,0:32])\n",
        "  A_inverse = np.linalg.inv(A)\n",
        "  #\n",
        "  feature_vec = dataset[18000,0:32]\n",
        "  ta = feature_vec.dot(A_inverse).dot(feature_vec)\n",
        "  print(ta)"
      ],
      "execution_count": 51,
      "outputs": [
        {
          "output_type": "stream",
          "text": [
            "0.024585140473915176\n",
            "0.00954508122245775\n",
            "0.008920127056214784\n",
            "0.009201890948126673\n",
            "0.011400436420597695\n",
            "0.005766901415792549\n",
            "0.007920787939688142\n",
            "0.019168523454071468\n"
          ],
          "name": "stdout"
        }
      ]
    },
    {
      "cell_type": "code",
      "metadata": {
        "id": "z6LNhbXhNRb4"
      },
      "source": [
        "A = np.matmul(dataset.transpose(), dataset)"
      ],
      "execution_count": 29,
      "outputs": []
    },
    {
      "cell_type": "code",
      "metadata": {
        "colab": {
          "base_uri": "https://localhost:8080/"
        },
        "id": "gNmhfr94NSSj",
        "outputId": "4a7eaed1-dfdd-4b27-84af-551fd5515d16"
      },
      "source": [
        "A.shape"
      ],
      "execution_count": 32,
      "outputs": [
        {
          "output_type": "execute_result",
          "data": {
            "text/plain": [
              "(40, 40)"
            ]
          },
          "metadata": {
            "tags": []
          },
          "execution_count": 32
        }
      ]
    },
    {
      "cell_type": "code",
      "metadata": {
        "id": "USKy58UJQmaW"
      },
      "source": [
        "test=np.linalg.inv(A)"
      ],
      "execution_count": 34,
      "outputs": []
    },
    {
      "cell_type": "code",
      "metadata": {
        "colab": {
          "base_uri": "https://localhost:8080/"
        },
        "id": "QUrpd2SLQrGP",
        "outputId": "80351422-a182-4248-b1d2-d615f8a2aa8a"
      },
      "source": [
        "test.shape"
      ],
      "execution_count": 61,
      "outputs": [
        {
          "output_type": "execute_result",
          "data": {
            "text/plain": [
              "(40, 40)"
            ]
          },
          "metadata": {
            "tags": []
          },
          "execution_count": 61
        }
      ]
    },
    {
      "cell_type": "code",
      "metadata": {
        "colab": {
          "base_uri": "https://localhost:8080/"
        },
        "id": "Jgc-5PMTgzG-",
        "outputId": "8e85124d-c296-4384-82e0-54ea395a160b"
      },
      "source": [
        "dataset[18000,0:32].shape"
      ],
      "execution_count": 64,
      "outputs": [
        {
          "output_type": "execute_result",
          "data": {
            "text/plain": [
              "(32,)"
            ]
          },
          "metadata": {
            "tags": []
          },
          "execution_count": 64
        }
      ]
    },
    {
      "cell_type": "code",
      "metadata": {
        "colab": {
          "base_uri": "https://localhost:8080/"
        },
        "id": "JRf6s6xxg4tS",
        "outputId": "03532dbb-6fd8-4b1e-83e8-db4dc9200c39"
      },
      "source": [
        "theta[0,:].dot(dataset[18000,0:32])"
      ],
      "execution_count": 65,
      "outputs": [
        {
          "output_type": "execute_result",
          "data": {
            "text/plain": [
              "2.627065594635252"
            ]
          },
          "metadata": {
            "tags": []
          },
          "execution_count": 65
        }
      ]
    },
    {
      "cell_type": "code",
      "metadata": {
        "id": "if6A3SPBI4Wx"
      },
      "source": [
        "def ucb_choose_arm(person):\n",
        "  # for all 8 possible arms\n",
        "  p=np.empty([8,])\n",
        "  for a in range(0,8):\n",
        "    # compute UCB choice of arm for each person\n",
        "    x_i = dataset[opt_actions==arm,0:32]\n",
        "    A = np.matmul(x_i.transpose(), x_i)\n",
        "    A_inverse = np.linalg.inv(A)\n",
        "    #\n",
        "    feature_vec = dataset[person,0:32]\n",
        "    # this will be a single number, reward variance for arm a for one person\n",
        "    response_variance = feature_vec.dot(A_inverse).dot(feature_vec)\n",
        "    #\n",
        "    a_upper_ci = alpha * np.sqrt(response_variance)\n",
        "    a_mean = theta[arm,:].dot(feature_vec)\n",
        "    #\n",
        "    p[a] = a_mean + a_upper_ci\n",
        "  \n",
        "  # randomely break tie\n",
        "  p = p + (np.random.random(len(p))*0.00000001)\n",
        "  choices.append(p.argmax())\n",
        "  # update the rewards from that choice, just look up\n",
        "  # print(\"debug: choice is\")\n",
        "  # print(p.argmax())\n",
        "  ucb_choice_reward.append(dataset[person,32+p.argmax()])"
      ],
      "execution_count": 102,
      "outputs": []
    },
    {
      "cell_type": "code",
      "metadata": {
        "id": "Dua_n3iPh2jY"
      },
      "source": [
        "choices=np.empty([1181,])"
      ],
      "execution_count": 69,
      "outputs": []
    },
    {
      "cell_type": "code",
      "metadata": {
        "colab": {
          "base_uri": "https://localhost:8080/",
          "height": 164
        },
        "id": "3zRPl1Adh3tV",
        "outputId": "cad0c7ab-7163-4d92-e86f-0f562acc5a3f"
      },
      "source": [
        "choices.shape"
      ],
      "execution_count": 118,
      "outputs": [
        {
          "output_type": "error",
          "ename": "AttributeError",
          "evalue": "ignored",
          "traceback": [
            "\u001b[0;31m---------------------------------------------------------------------------\u001b[0m",
            "\u001b[0;31mAttributeError\u001b[0m                            Traceback (most recent call last)",
            "\u001b[0;32m<ipython-input-118-859c526ed0f2>\u001b[0m in \u001b[0;36m<module>\u001b[0;34m()\u001b[0m\n\u001b[0;32m----> 1\u001b[0;31m \u001b[0mchoices\u001b[0m\u001b[0;34m.\u001b[0m\u001b[0mshape\u001b[0m\u001b[0;34m\u001b[0m\u001b[0;34m\u001b[0m\u001b[0m\n\u001b[0m",
            "\u001b[0;31mAttributeError\u001b[0m: 'list' object has no attribute 'shape'"
          ]
        }
      ]
    },
    {
      "cell_type": "markdown",
      "metadata": {
        "id": "uir0IvFzzLY5"
      },
      "source": [
        "## Tuning hyperparameter alpha"
      ]
    },
    {
      "cell_type": "code",
      "metadata": {
        "id": "7wR7XvM7D3ZD"
      },
      "source": [
        "# now perform action based UCB and compute the regret\n",
        "# regret will be computed for the remaining 19181-18000 = 1181 persons\n",
        "# we will plot regret vs hyperparameter C, to get the best C value\n",
        "regret_list=[]\n",
        "alpha_list=[]\n",
        "for alpha in [0.1,0.1,0.3,0.4,0.5,0.6,0.7,0.8,0.9]:\n",
        "  alpha_list.append(alpha)\n",
        "  true_ideal_reward=[]\n",
        "  choices=[]\n",
        "  ucb_choice_reward=[]\n",
        "  person_cnt =0\n",
        "  # for person in range(18000,18001):\n",
        "  for person in range(18000,19181):\n",
        "    # for each person, we know which joke is his favorite based on his rating\n",
        "    # we will also figure out an action based on the 8 linear regression model we got\n",
        "    # basically. according to UCB algorithm, we get a choice\n",
        "    # then we compute the delta between the ratings of his favourite and the rating of UCB choice\n",
        "    # record the array of all the True ideal reward\n",
        "    # record the array of the UBC choice reward\n",
        "    # get the regret for all persons, that's the regret for a given hyperparameter C\n",
        "\n",
        "    # True favourite joke's reward\n",
        "    true_ideal_reward.append(opt_rewards[person])\n",
        "    # figure out an arm to pull based on UCB\n",
        "    # the following function will just update choices array with the action chosen by UCB\n",
        "    ucb_choose_arm(person)\n",
        "    person_cnt +=1\n",
        "    # \n",
        "    # mean_ideal_reward = np.sum(true_ideal_reward)/(1)\n",
        "    # mean_ucb_reward = np.sum(ucb_choice_reward)/(1)\n",
        "  #\n",
        "  mean_ideal_reward = np.sum(true_ideal_reward)\n",
        "  mean_ucb_reward = np.sum(ucb_choice_reward)\n",
        "  #\n",
        "  regret = mean_ideal_reward-mean_ucb_reward\n",
        "  regret_list.append(regret)"
      ],
      "execution_count": 116,
      "outputs": []
    },
    {
      "cell_type": "code",
      "metadata": {
        "id": "48-P2vyHzgGb"
      },
      "source": [
        ""
      ],
      "execution_count": null,
      "outputs": []
    },
    {
      "cell_type": "markdown",
      "metadata": {
        "id": "kUhAa3ltzg2S"
      },
      "source": [
        "## Plot regret for people in the test data: 19181-18000=1181"
      ]
    },
    {
      "cell_type": "code",
      "metadata": {
        "id": "I0bUzwI4zRgo"
      },
      "source": [
        "# now perform action based UCB and compute the regret\n",
        "# regret will be computed for the remaining 19181-18000 = 1181 persons\n",
        "# we will plot regret vs hyperparameter C, to get the best C value\n",
        "for alpha in [0.8]:\n",
        "  true_ideal_reward=[]\n",
        "  choices=[]\n",
        "  ucb_choice_reward=[]\n",
        "  person_cnt =0\n",
        "  # for person in range(18000,18001):\n",
        "  for person in range(18000,19181):\n",
        "    # for each person, we know which joke is his favorite based on his rating\n",
        "    # we will also figure out an action based on the 8 linear regression model we got\n",
        "    # basically. according to UCB algorithm, we get a choice\n",
        "    # then we compute the delta between the ratings of his favourite and the rating of UCB choice\n",
        "    # record the array of all the True ideal reward\n",
        "    # record the array of the UBC choice reward\n",
        "    # get the regret for all persons, that's the regret for a given hyperparameter C\n",
        "\n",
        "    # True favourite joke's reward\n",
        "    true_ideal_reward.append(opt_rewards[person])\n",
        "    # figure out an arm to pull based on UCB\n",
        "    # the following function will just update choices array with the action chosen by UCB\n",
        "    ucb_choose_arm(person)\n",
        "    person_cnt +=1\n",
        "    # \n",
        "    # mean_ideal_reward = np.sum(true_ideal_reward)/(1)\n",
        "    # mean_ucb_reward = np.sum(ucb_choice_reward)/(1)\n",
        "  #\n",
        "  # mean_ideal_reward = np.sum(true_ideal_reward)\n",
        "  # mean_ucb_reward = np.sum(ucb_choice_reward)\n",
        "  #\n",
        "  true_ideal_reward_np = np.array(true_ideal_reward)\n",
        "  ucb_choice_reward_np =np.array(ucb_choice_reward)\n",
        "  regret = np.subtract(true_ideal_reward_np,ucb_choice_reward_np)\n"
      ],
      "execution_count": 126,
      "outputs": []
    },
    {
      "cell_type": "code",
      "metadata": {
        "colab": {
          "base_uri": "https://localhost:8080/",
          "height": 269
        },
        "id": "gF5veuSD01jn",
        "outputId": "99523213-622e-470a-ef0a-50a911ec7a1e"
      },
      "source": [
        "import matplotlib.pyplot as plt\n",
        "plt.plot(range(regret.shape[0]), regret)\n",
        "plt.show()"
      ],
      "execution_count": 128,
      "outputs": [
        {
          "output_type": "display_data",
          "data": {
            "image/png": "[encoded data removed]",
            "text/plain": [
              "<Figure size 432x288 with 1 Axes>"
            ]
          },
          "metadata": {
            "tags": [],
            "needs_background": "light"
          }
        }
      ]
    },
    {
      "cell_type": "code",
      "metadata": {
        "colab": {
          "base_uri": "https://localhost:8080/"
        },
        "id": "lpEXuCykxzik",
        "outputId": "701616b0-be00-4703-afd3-ea3e59f01aa4"
      },
      "source": [
        "regret_list"
      ],
      "execution_count": 117,
      "outputs": [
        {
          "output_type": "execute_result",
          "data": {
            "text/plain": [
              "[5846.99,\n",
              " 5616.56,\n",
              " 5843.610000000001,\n",
              " 5716.65,\n",
              " 5887.17,\n",
              " 5771.1,\n",
              " 5702.32,\n",
              " 5654.49,\n",
              " 5912.860000000001]"
            ]
          },
          "metadata": {
            "tags": []
          },
          "execution_count": 117
        }
      ]
    },
    {
      "cell_type": "code",
      "metadata": {
        "id": "uZxlr-zRxRLn"
      },
      "source": [
        "import matplotlib.pyplot as plt"
      ],
      "execution_count": null,
      "outputs": []
    },
    {
      "cell_type": "code",
      "metadata": {
        "colab": {
          "base_uri": "https://localhost:8080/"
        },
        "id": "De_yNTAItxia",
        "outputId": "dabe7f31-476f-4df9-a90e-9be9928b692a"
      },
      "source": [
        "plt.plot()"
      ],
      "execution_count": 111,
      "outputs": [
        {
          "output_type": "execute_result",
          "data": {
            "text/plain": [
              "[0.1, 0.2, 0.3, 0.4, 0.5, 0.6, 0.7, 0.8, 0.9]"
            ]
          },
          "metadata": {
            "tags": []
          },
          "execution_count": 111
        }
      ]
    }
  ]
}