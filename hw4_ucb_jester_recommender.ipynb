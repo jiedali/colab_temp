{
  "nbformat": 4,
  "nbformat_minor": 0,
  "metadata": {
    "colab": {
      "name": "hw4_ucb_jester_recommender.ipynb",
      "provenance": [],
      "authorship_tag": "ABX9TyPmZ4nMwqUpPCWvMBYp6Uix",
      "include_colab_link": true
    },
    "kernelspec": {
      "name": "python3",
      "display_name": "Python 3"
    },
    "accelerator": "GPU"
  },
  "cells": [
    {
      "cell_type": "markdown",
      "metadata": {
        "id": "view-in-github",
        "colab_type": "text"
      },
      "source": [
        "<a href=\"https://colab.research.google.com/github/jiedali/colab_temp/blob/main/hw4_ucb_jester_recommender.ipynb\" target=\"_parent\"><img src=\"https://colab.research.google.com/assets/colab-badge.svg\" alt=\"Open In Colab\"/></a>"
      ]
    },
    {
      "cell_type": "code",
      "metadata": {
        "colab": {
          "base_uri": "https://localhost:8080/"
        },
        "id": "MGh7EgyUBFZl",
        "outputId": "deb867eb-845b-4708-fb35-84c6c5de3b40"
      },
      "source": [
        "import numpy as np\n",
        "%tensorflow_version 1.x\n",
        "import tensorflow as tf\n",
        "print(tf.__version__)\n",
        "from google.colab import drive\n",
        "drive.mount('/content/gdrive')"
      ],
      "execution_count": 3,
      "outputs": [
        {
          "output_type": "stream",
          "text": [
            "TensorFlow 1.x selected.\n",
            "1.15.2\n",
            "Mounted at /content/gdrive\n"
          ],
          "name": "stdout"
        }
      ]
    },
    {
      "cell_type": "code",
      "metadata": {
        "id": "oYyB1mzFBGiE"
      },
      "source": [
        "def sample_jester_data(file_name='/content/gdrive/MyDrive/jester_data_40jokes_19181users.npy', context_dim = 32, num_actions = 8, num_contexts = 19181,\n",
        "    shuffle_rows=True, shuffle_cols=False):\n",
        "    \"\"\"Samples bandit game from (user, joke) dense subset of Jester dataset.\n",
        "    Args:\n",
        "       file_name: Route of file containing the modified Jester dataset.\n",
        "       context_dim: Context dimension (i.e. vector with some ratings from a user).\n",
        "       num_actions: Number of actions (number of joke ratings to predict).\n",
        "       num_contexts: Number of contexts to sample.\n",
        "       shuffle_rows: If True, rows from original dataset are shuffled.\n",
        "       shuffle_cols: Whether or not context/action jokes are randomly shuffled.\n",
        "    Returns:\n",
        "       dataset: Sampled matrix with rows: (context, rating_1, ..., rating_k).\n",
        "       opt_vals: Vector of deterministic optimal (reward, action) for each context.\n",
        "\"\"\"\n",
        "    np.random.seed(0)\n",
        "    with tf.gfile.Open(file_name, 'rb') as f:\n",
        "       dataset = np.load(f)\n",
        "    if shuffle_cols:\n",
        "       dataset = dataset[:, np.random.permutation(dataset.shape[1])]\n",
        "    if shuffle_rows:\n",
        "       np.random.shuffle(dataset)\n",
        "    dataset = dataset[:num_contexts, :]\n",
        "    assert context_dim + num_actions == dataset.shape[1], 'Wrong data dimensions.'\n",
        "  \n",
        "\n",
        "    opt_actions = np.argmax(dataset[:, context_dim:], axis=1)\n",
        "    opt_rewards = np.array([dataset[i, context_dim + a] for i, a in enumerate(opt_actions)])\n",
        "    \n",
        "    return dataset, opt_rewards, opt_actions"
      ],
      "execution_count": 4,
      "outputs": []
    },
    {
      "cell_type": "code",
      "metadata": {
        "id": "izBQcye1BU43"
      },
      "source": [
        "# Note: opt_rewards is based only on the last 8 jokes, from which we are trying to recommed\n",
        "dataset, opt_rewards, opt_actions=sample_jester_data()"
      ],
      "execution_count": 5,
      "outputs": []
    },
    {
      "cell_type": "code",
      "metadata": {
        "colab": {
          "base_uri": "https://localhost:8080/"
        },
        "id": "Qa6HzyWGBYRw",
        "outputId": "9c98feaa-5c11-481b-e4a1-a0baf1501ee4"
      },
      "source": [
        "dataset.shape"
      ],
      "execution_count": 6,
      "outputs": [
        {
          "output_type": "execute_result",
          "data": {
            "text/plain": [
              "(19181, 40)"
            ]
          },
          "metadata": {
            "tags": []
          },
          "execution_count": 6
        }
      ]
    },
    {
      "cell_type": "code",
      "metadata": {
        "colab": {
          "base_uri": "https://localhost:8080/"
        },
        "id": "j0rFzy_uBZZo",
        "outputId": "46967b73-dbda-4e21-dcd3-5d80172b1829"
      },
      "source": [
        "opt_rewards.shape"
      ],
      "execution_count": 7,
      "outputs": [
        {
          "output_type": "execute_result",
          "data": {
            "text/plain": [
              "(19181,)"
            ]
          },
          "metadata": {
            "tags": []
          },
          "execution_count": 7
        }
      ]
    },
    {
      "cell_type": "code",
      "metadata": {
        "colab": {
          "base_uri": "https://localhost:8080/"
        },
        "id": "0zb4u_MhBasa",
        "outputId": "934dac34-e770-4797-b9a4-fb400221f1d3"
      },
      "source": [
        "opt_actions.shape"
      ],
      "execution_count": 8,
      "outputs": [
        {
          "output_type": "execute_result",
          "data": {
            "text/plain": [
              "(19181,)"
            ]
          },
          "metadata": {
            "tags": []
          },
          "execution_count": 8
        }
      ]
    },
    {
      "cell_type": "markdown",
      "metadata": {
        "id": "Ot7s42UqAiCG"
      },
      "source": [
        "## First fit linear regression, get theta[arm, feature]"
      ]
    },
    {
      "cell_type": "code",
      "metadata": {
        "id": "mxB7DtvzBgUx"
      },
      "source": [
        "# fit linear regression model and get theta\n",
        "from sklearn.linear_model import LinearRegression\n",
        "# initialize an numpy array to store theta\n",
        "theta = np.zeros((8,32))\n",
        "\n",
        "# fit linear regression for each of the last 8 jokes (8 arms)\n",
        "# assemble the training data for each of the arm\n",
        "for arm in range(0,8):\n",
        "  # choose the training data with only the target \"arm\" being pulled\n",
        "  train_data = dataset[opt_actions==arm, 0:32]\n",
        "  # the labels for each arm is different\n",
        "  train_label = dataset[opt_actions==arm,32+arm]\n",
        "  # fit linear regressio for each specific arm\n",
        "  reg = LinearRegression().fit(train_data, train_label)\n",
        "  # get theta for each arm\n",
        "  theta[arm,:] = reg.coef_"
      ],
      "execution_count": 9,
      "outputs": []
    },
    {
      "cell_type": "code",
      "metadata": {
        "colab": {
          "base_uri": "https://localhost:8080/"
        },
        "id": "6OCze8N8Tgu1",
        "outputId": "83b36c8d-207b-4ade-95ea-f87307fd57cb"
      },
      "source": [
        "theta.shape"
      ],
      "execution_count": 14,
      "outputs": [
        {
          "output_type": "execute_result",
          "data": {
            "text/plain": [
              "(8, 32)"
            ]
          },
          "metadata": {
            "tags": []
          },
          "execution_count": 14
        }
      ]
    },
    {
      "cell_type": "markdown",
      "metadata": {
        "id": "-v4zLyP5BJt1"
      },
      "source": [
        "## Define the function to run UCB algorithm"
      ]
    },
    {
      "cell_type": "code",
      "metadata": {
        "id": "if6A3SPBI4Wx"
      },
      "source": [
        "def ucb_choose_arm(person):\n",
        "  # for all 8 possible arms\n",
        "  p=np.empty([8,])\n",
        "  for a in range(0,8):\n",
        "    # compute UCB choice of arm for each person\n",
        "    x_i = dataset[opt_actions==arm,0:32]\n",
        "    A = np.matmul(x_i.transpose(), x_i)\n",
        "    A_inverse = np.linalg.inv(A)\n",
        "    #\n",
        "    feature_vec = dataset[person,0:32]\n",
        "    # this will be a single number, reward variance for arm a for one person\n",
        "    response_variance = feature_vec.dot(A_inverse).dot(feature_vec)\n",
        "    #\n",
        "    a_upper_ci = alpha * np.sqrt(response_variance)\n",
        "    a_mean = theta[arm,:].dot(feature_vec)\n",
        "    #\n",
        "    p[a] = a_mean + a_upper_ci\n",
        "  \n",
        "  # randomely break tie\n",
        "  p = p + (np.random.random(len(p))*0.00000001)\n",
        "  action_chosen = p.argmax()\n",
        "  reward_chosen = dataset[person,32+p.argmax()]\n",
        "  # update the rewards from that choice, just look up\n",
        "  # print(\"debug: choice is\")\n",
        "  # print(p.argmax())\n",
        "  # ucb_choice_reward.append(dataset[person,32+p.argmax()])\n",
        "\n",
        "  return action_chosen, reward_chosen"
      ],
      "execution_count": 15,
      "outputs": []
    },
    {
      "cell_type": "markdown",
      "metadata": {
        "id": "uir0IvFzzLY5"
      },
      "source": [
        "## Tuning hyperparameter alpha"
      ]
    },
    {
      "cell_type": "code",
      "metadata": {
        "id": "7wR7XvM7D3ZD"
      },
      "source": [
        "# now perform action based UCB and compute the regret\n",
        "# regret will be computed for the remaining 19181-18000 = 1181 persons\n",
        "# we will plot regret vs hyperparameter C, to get the best C value\n",
        "regret_list=[]\n",
        "alpha_list=[]\n",
        "for alpha in [0.2, 0.5, 0.8, 1, 2, 5, 10, 100, 200, 500, 1000]:\n",
        "# for alpha in [0.2]:\n",
        "  alpha_list.append(alpha)\n",
        "  true_ideal_reward=[]\n",
        "  choices=[]\n",
        "  ucb_choice_reward=[]\n",
        "  person_cnt =0\n",
        "  regret_each_person=[]\n",
        "  # for person in range(18000,18001):\n",
        "  for person in range(18000,19181):\n",
        "    # for each person, we know which joke is his favorite based on his rating\n",
        "    # we will also figure out an action based on the 8 linear regression model we got\n",
        "    # basically. according to UCB algorithm, we get a choice\n",
        "    # then we compute the delta between the ratings of his favourite and the rating of UCB choice\n",
        "    # record the array of all the True ideal reward\n",
        "    # record the array of the UBC choice reward\n",
        "    # get the regret for all persons, that's the regret for a given hyperparameter C\n",
        "\n",
        "    # True favourite joke's reward\n",
        "    true_ideal_reward.append(opt_rewards[person])\n",
        "    # figure out an arm to pull based on UCB\n",
        "    # the following function will just update choices array with the action chosen by UCB\n",
        "    action_chosen, reward_chosen = ucb_choose_arm(person)\n",
        "    #\n",
        "    person_cnt +=1\n",
        "    # compute regret for the specific person\n",
        "    regret_each_person.append(opt_rewards[person]-reward_chosen)\n",
        "\n",
        "  regret_each_person_np = np.array(regret_each_person)\n",
        "  # compute the average regret of each person\n",
        "  average_regret_all_person = np.sum(regret_each_person_np)/person_cnt\n",
        "  # save the average regret for the chosen alpha\n",
        "  regret_list.append(average_regret_all_person)"
      ],
      "execution_count": 28,
      "outputs": []
    },
    {
      "cell_type": "code",
      "metadata": {
        "colab": {
          "base_uri": "https://localhost:8080/"
        },
        "id": "vIM5hP-3D1P3",
        "outputId": "a74c70d3-11f9-4102-8eaa-cba6a716614c"
      },
      "source": [
        "alpha_list"
      ],
      "execution_count": 31,
      "outputs": [
        {
          "output_type": "execute_result",
          "data": {
            "text/plain": [
              "[0.2, 0.5, 0.8, 1, 2, 5, 10, 100, 200, 500, 1000]"
            ]
          },
          "metadata": {
            "tags": []
          },
          "execution_count": 31
        }
      ]
    },
    {
      "cell_type": "code",
      "metadata": {
        "colab": {
          "base_uri": "https://localhost:8080/"
        },
        "id": "ifTKeV2oEznV",
        "outputId": "5de230c8-3485-4280-bcaa-e475b7dd5959"
      },
      "source": [
        "regret_list"
      ],
      "execution_count": 33,
      "outputs": [
        {
          "output_type": "execute_result",
          "data": {
            "text/plain": [
              "[4.935850973751059,\n",
              " 4.892320067739204,\n",
              " 4.725139712108383,\n",
              " 5.008509737510584,\n",
              " 4.909432684165961,\n",
              " 4.796731583403895,\n",
              " 4.91623200677392,\n",
              " 4.837933954276037,\n",
              " 5.022303132938188,\n",
              " 4.871778154106689,\n",
              " 4.877679932260796]"
            ]
          },
          "metadata": {
            "tags": []
          },
          "execution_count": 33
        }
      ]
    },
    {
      "cell_type": "code",
      "metadata": {
        "colab": {
          "base_uri": "https://localhost:8080/",
          "height": 298
        },
        "id": "UJ1CoBn8Do9f",
        "outputId": "af6d88ec-e962-47d0-d7f8-e608b136caae"
      },
      "source": [
        "import matplotlib.pyplot as plt\n",
        "plt.figure()\n",
        "plt.scatter(alpha_list,regret_list)\n",
        "plt.title(\"Average regret across all persons, vs Hyperparameter alpha\")"
      ],
      "execution_count": 29,
      "outputs": [
        {
          "output_type": "execute_result",
          "data": {
            "text/plain": [
              "Text(0.5, 1.0, 'Average regret across all persons, vs Hyperparameter alpha')"
            ]
          },
          "metadata": {
            "tags": []
          },
          "execution_count": 29
        },
        {
          "output_type": "display_data",
          "data": {
            "image/png": "[encoded data removed]",
            "text/plain": [
              "<Figure size 432x288 with 1 Axes>"
            ]
          },
          "metadata": {
            "tags": [],
            "needs_background": "light"
          }
        }
      ]
    },
    {
      "cell_type": "markdown",
      "metadata": {
        "id": "a0ZJsck2E46s"
      },
      "source": [
        "## Experiment shows alpha = 0.8 gives the lowest regret"
      ]
    },
    {
      "cell_type": "markdown",
      "metadata": {
        "id": "kUhAa3ltzg2S"
      },
      "source": [
        "## Plot regret for people in the test data using alpha=0.8: \n",
        "## Number of persons: 19181-18000=1181"
      ]
    },
    {
      "cell_type": "code",
      "metadata": {
        "id": "SSgYey2rFPUv"
      },
      "source": [
        "# now perform action based UCB and compute the regret\n",
        "# regret will be computed for the remaining 19181-18000 = 1181 persons\n",
        "# we will plot regret vs hyperparameter C, to get the best C value\n",
        "for alpha in [0.8]:\n",
        "  true_ideal_reward=[]\n",
        "  choices=[]\n",
        "  ucb_choice_reward=[]\n",
        "  person_cnt =0\n",
        "  regret_each_person=[]\n",
        "  # for person in range(18000,18001):\n",
        "  for person in range(18000,19181):\n",
        "    # for each person, we know which joke is his favorite based on his rating\n",
        "    # we will also figure out an action based on the 8 linear regression model we got\n",
        "    # basically. according to UCB algorithm, we get a choice\n",
        "    # then we compute the delta between the ratings of his favourite and the rating of UCB choice\n",
        "    # record the array of all the True ideal reward\n",
        "    # record the array of the UBC choice reward\n",
        "    # get the regret for all persons, that's the regret for a given hyperparameter C\n",
        "\n",
        "    # True favourite joke's reward\n",
        "    true_ideal_reward.append(opt_rewards[person])\n",
        "    # figure out an arm to pull based on UCB\n",
        "    # the following function will just update choices array with the action chosen by UCB\n",
        "    action_chosen, reward_chosen = ucb_choose_arm(person)\n",
        "    #\n",
        "    person_cnt +=1\n",
        "    # compute regret for the specific person\n",
        "    regret_each_person.append(opt_rewards[person]-reward_chosen)\n",
        "\n",
        "  regret_each_person_np = np.array(regret_each_person)\n",
        "  # compute the average regret of each person\n",
        "  average_regret_all_person = np.sum(regret_each_person_np)/person_cnt\n",
        "  # save the average regret for the chosen alpha\n",
        "  regret_list.append(average_regret_all_person)"
      ],
      "execution_count": null,
      "outputs": []
    },
    {
      "cell_type": "code",
      "metadata": {
        "colab": {
          "base_uri": "https://localhost:8080/",
          "height": 198
        },
        "id": "I0bUzwI4zRgo",
        "outputId": "2cb0e1fe-d17e-4651-ba9c-1d003d01da74"
      },
      "source": [
        "# now perform action based UCB and compute the regret\n",
        "# regret will be computed for the remaining 19181-18000 = 1181 persons\n",
        "# we will plot regret vs hyperparameter C, to get the best C value\n",
        "for alpha in [0.8]:\n",
        "  true_ideal_reward=[]\n",
        "  choices=[]\n",
        "  ucb_choice_reward=[]\n",
        "  person_cnt =0\n",
        "  # for person in range(18000,18001):\n",
        "  for person in range(18000,19181):\n",
        "    # for each person, we know which joke is his favorite based on his rating\n",
        "    # we will also figure out an action based on the 8 linear regression model we got\n",
        "    # basically. according to UCB algorithm, we get a choice\n",
        "    # then we compute the delta between the ratings of his favourite and the rating of UCB choice\n",
        "    # record the array of all the True ideal reward\n",
        "    # record the array of the UBC choice reward\n",
        "    # get the regret for all persons, that's the regret for a given hyperparameter C\n",
        "\n",
        "    # True favourite joke's reward\n",
        "    true_ideal_reward.append(opt_rewards[person])\n",
        "    # figure out an arm to pull based on UCB\n",
        "    # the following function will just update choices array with the action chosen by UCB\n",
        "    ucb_choose_arm(person)\n",
        "    person_cnt +=1\n",
        "    # \n",
        "    # mean_ideal_reward = np.sum(true_ideal_reward)/(1)\n",
        "    # mean_ucb_reward = np.sum(ucb_choice_reward)/(1)\n",
        "  #\n",
        "  # mean_ideal_reward = np.sum(true_ideal_reward)\n",
        "  # mean_ucb_reward = np.sum(ucb_choice_reward)\n",
        "  #\n",
        "  true_ideal_reward_np = np.array(true_ideal_reward)\n",
        "  ucb_choice_reward_np =np.array(ucb_choice_reward)\n",
        "  regret = np.subtract(true_ideal_reward_np,ucb_choice_reward_np)\n"
      ],
      "execution_count": 34,
      "outputs": [
        {
          "output_type": "error",
          "ename": "ValueError",
          "evalue": "ignored",
          "traceback": [
            "\u001b[0;31m---------------------------------------------------------------------------\u001b[0m",
            "\u001b[0;31mValueError\u001b[0m                                Traceback (most recent call last)",
            "\u001b[0;32m<ipython-input-34-100b2d23c844>\u001b[0m in \u001b[0;36m<module>\u001b[0;34m()\u001b[0m\n\u001b[1;32m     32\u001b[0m   \u001b[0mtrue_ideal_reward_np\u001b[0m \u001b[0;34m=\u001b[0m \u001b[0mnp\u001b[0m\u001b[0;34m.\u001b[0m\u001b[0marray\u001b[0m\u001b[0;34m(\u001b[0m\u001b[0mtrue_ideal_reward\u001b[0m\u001b[0;34m)\u001b[0m\u001b[0;34m\u001b[0m\u001b[0;34m\u001b[0m\u001b[0m\n\u001b[1;32m     33\u001b[0m   \u001b[0mucb_choice_reward_np\u001b[0m \u001b[0;34m=\u001b[0m\u001b[0mnp\u001b[0m\u001b[0;34m.\u001b[0m\u001b[0marray\u001b[0m\u001b[0;34m(\u001b[0m\u001b[0mucb_choice_reward\u001b[0m\u001b[0;34m)\u001b[0m\u001b[0;34m\u001b[0m\u001b[0;34m\u001b[0m\u001b[0m\n\u001b[0;32m---> 34\u001b[0;31m   \u001b[0mregret\u001b[0m \u001b[0;34m=\u001b[0m \u001b[0mnp\u001b[0m\u001b[0;34m.\u001b[0m\u001b[0msubtract\u001b[0m\u001b[0;34m(\u001b[0m\u001b[0mtrue_ideal_reward_np\u001b[0m\u001b[0;34m,\u001b[0m\u001b[0mucb_choice_reward_np\u001b[0m\u001b[0;34m)\u001b[0m\u001b[0;34m\u001b[0m\u001b[0;34m\u001b[0m\u001b[0m\n\u001b[0m",
            "\u001b[0;31mValueError\u001b[0m: operands could not be broadcast together with shapes (1181,) (0,) "
          ]
        }
      ]
    },
    {
      "cell_type": "code",
      "metadata": {
        "id": "gF5veuSD01jn"
      },
      "source": [
        "import matplotlib.pyplot as plt\n",
        "plt.figure()\n",
        "plt.plot(range(regret.shape[0]), regret)\n",
        "plt.savefig('/content/gdrive/MyDrive/rl_hw4_regret_for_each_person.png')\n",
        "# plt.show()"
      ],
      "execution_count": null,
      "outputs": []
    },
    {
      "cell_type": "code",
      "metadata": {
        "id": "lpEXuCykxzik"
      },
      "source": [
        "regret_list"
      ],
      "execution_count": null,
      "outputs": []
    },
    {
      "cell_type": "code",
      "metadata": {
        "id": "uZxlr-zRxRLn"
      },
      "source": [
        "import matplotlib.pyplot as plt"
      ],
      "execution_count": null,
      "outputs": []
    },
    {
      "cell_type": "code",
      "metadata": {
        "id": "De_yNTAItxia"
      },
      "source": [
        "plt.plot()"
      ],
      "execution_count": null,
      "outputs": []
    }
  ]
}